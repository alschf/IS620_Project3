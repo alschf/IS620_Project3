{
 "cells": [
  {
   "cell_type": "code",
   "execution_count": 1,
   "metadata": {
    "collapsed": true
   },
   "outputs": [],
   "source": [
    "import nltk \n",
    "from nltk.corpus import names\n",
    "import random\n",
    "import copy"
   ]
  },
  {
   "cell_type": "code",
   "execution_count": 2,
   "metadata": {
    "collapsed": true
   },
   "outputs": [],
   "source": [
    "def gender_features(word):\n",
    "    return {'last_letter': word[-1]}"
   ]
  },
  {
   "cell_type": "code",
   "execution_count": 3,
   "metadata": {
    "collapsed": false
   },
   "outputs": [],
   "source": [
    "names = ([(name, 'male') for name in names.words('male.txt')] + [(name, 'female') for name in names.words('female.txt')])\n",
    "random.shuffle(names)"
   ]
  },
  {
   "cell_type": "code",
   "execution_count": 4,
   "metadata": {
    "collapsed": false
   },
   "outputs": [
    {
     "name": "stdout",
     "output_type": "stream",
     "text": [
      "[(u'Lana', 'female'), (u'Vonni', 'female'), (u'Suzy', 'female'), (u'Georgia', 'male'), (u'Nonie', 'female'), (u'Bennet', 'male'), (u'Elicia', 'female'), (u'Jefry', 'male'), (u'Stella', 'female'), (u'Maryanne', 'female')]\n",
      "7944\n"
     ]
    }
   ],
   "source": [
    "## So now we have a list of string tuples, names and gender.  \n",
    "print (names[:10])\n",
    "print len(names)"
   ]
  },
  {
   "cell_type": "code",
   "execution_count": 5,
   "metadata": {
    "collapsed": false
   },
   "outputs": [],
   "source": [
    "## Broken down as in the book\n",
    "featuresets = [(gender_features(n), g) for (n,g) in names]\n",
    "train_set, test_set = featuresets[500:], featuresets[:500]\n",
    "classifier = nltk.NaiveBayesClassifier.train(train_set)"
   ]
  },
  {
   "cell_type": "code",
   "execution_count": 6,
   "metadata": {
    "collapsed": false
   },
   "outputs": [
    {
     "name": "stdout",
     "output_type": "stream",
     "text": [
      "0.758\n"
     ]
    }
   ],
   "source": [
    "print nltk.classify.accuracy(classifier, test_set)"
   ]
  },
  {
   "cell_type": "code",
   "execution_count": 7,
   "metadata": {
    "collapsed": true
   },
   "outputs": [],
   "source": [
    "## Broken down as request for project 3\n",
    "train_set, dev_set, test_set = featuresets[0:500], featuresets[500:1000], featuresets[1000:]\n",
    "classifier = nltk.NaiveBayesClassifier.train(train_set)"
   ]
  },
  {
   "cell_type": "code",
   "execution_count": 8,
   "metadata": {
    "collapsed": false
   },
   "outputs": [
    {
     "name": "stdout",
     "output_type": "stream",
     "text": [
      "500\n",
      "500\n",
      "6944\n"
     ]
    }
   ],
   "source": [
    "#check the lengths\n",
    "print len(train_set)\n",
    "print len(dev_set)\n",
    "print len(test_set)"
   ]
  },
  {
   "cell_type": "code",
   "execution_count": 9,
   "metadata": {
    "collapsed": false
   },
   "outputs": [
    {
     "name": "stdout",
     "output_type": "stream",
     "text": [
      "0.776\n"
     ]
    }
   ],
   "source": [
    "## check accuracy of the dev_set\n",
    "print nltk.classify.accuracy(classifier, dev_set)"
   ]
  },
  {
   "cell_type": "code",
   "execution_count": 10,
   "metadata": {
    "collapsed": false
   },
   "outputs": [
    {
     "name": "stdout",
     "output_type": "stream",
     "text": [
      "Most Informative Features\n",
      "             last_letter = u'a'           female : male   =     19.8 : 1.0\n",
      "             last_letter = u'd'             male : female =     11.2 : 1.0\n",
      "             last_letter = u'i'           female : male   =      8.1 : 1.0\n",
      "             last_letter = u'o'             male : female =      5.7 : 1.0\n",
      "             last_letter = u's'             male : female =      4.5 : 1.0\n"
     ]
    }
   ],
   "source": [
    "## Note these features are different from those in the text\n",
    "classifier.show_most_informative_features(5)"
   ]
  },
  {
   "cell_type": "code",
   "execution_count": 11,
   "metadata": {
    "collapsed": false
   },
   "outputs": [],
   "source": [
    "## includes first letter, last letter, has letter, and counts of each letter\n",
    "def gender_features2(name):\n",
    "    features = {}\n",
    "    features[\"firstletter\"] = name[0].lower()\n",
    "    features[\"lastletter\"] = name[-1].lower()\n",
    "    for letter in 'abcdefghijklmnopqrstuvwxyz':\n",
    "        features[\"count(%s)\" % letter] = name.lower().count(letter)\n",
    "        features[\"has(%s)\" % letter] = (letter in name.lower())\n",
    "    return features"
   ]
  },
  {
   "cell_type": "code",
   "execution_count": 12,
   "metadata": {
    "collapsed": false
   },
   "outputs": [
    {
     "name": "stdout",
     "output_type": "stream",
     "text": [
      "0.754\n"
     ]
    }
   ],
   "source": [
    "## Regenerate featuresets, with same order as before\n",
    "featuresets = [(gender_features2(n), g) for (n,g) in names]\n",
    "train_names, dev_names, test_names = names[0:500], names[500:1000], names[1000:]\n",
    "train_set, dev_set, test_set = featuresets[0:500], featuresets[500:1000], featuresets[1000:]\n",
    "classifier2 = nltk.NaiveBayesClassifier.train(train_set)\n",
    "print nltk.classify.accuracy(classifier2, dev_set)"
   ]
  },
  {
   "cell_type": "code",
   "execution_count": 13,
   "metadata": {
    "collapsed": false
   },
   "outputs": [
    {
     "name": "stdout",
     "output_type": "stream",
     "text": [
      "Most Informative Features\n",
      "              lastletter = u'a'           female : male   =     19.8 : 1.0\n",
      "              lastletter = u'd'             male : female =     11.2 : 1.0\n",
      "              lastletter = u'i'           female : male   =      8.1 : 1.0\n",
      "                  has(w) = True             male : female =      8.1 : 1.0\n",
      "                count(w) = 1                male : female =      8.1 : 1.0\n",
      "                count(o) = 2                male : female =      6.2 : 1.0\n",
      "              lastletter = u'o'             male : female =      5.7 : 1.0\n",
      "              lastletter = u's'             male : female =      4.5 : 1.0\n",
      "              lastletter = u'r'             male : female =      4.3 : 1.0\n",
      "                count(g) = 2                male : female =      3.8 : 1.0\n"
     ]
    }
   ],
   "source": [
    "## counts of letters o and a appear important\n",
    "classifier2.show_most_informative_features(10)"
   ]
  },
  {
   "cell_type": "code",
   "execution_count": 14,
   "metadata": {
    "collapsed": false
   },
   "outputs": [
    {
     "name": "stdout",
     "output_type": "stream",
     "text": [
      "0.758\n"
     ]
    }
   ],
   "source": [
    "## Seeing what was important above, generate a new feature list without the 'has' function.\n",
    "## includes first letter, last letter, and counts of each letter\n",
    "def gender_features3(name):\n",
    "    m=int(round(len(name)/2))\n",
    "    midletter = name[m].lower()\n",
    "    features = {}\n",
    "    features['first_letter']  =  name[0].lower()\n",
    "    features['middle_letter'] =  midletter \n",
    "    features['last_letter']   =  name[-1].lower()\n",
    "    return features\n",
    "## Regenerate featuresets, with same order as before\n",
    "featuresets = [(gender_features3(n), g) for (n,g) in names]\n",
    "train_set, dev_set, test_set = featuresets[0:500], featuresets[500:1000], featuresets[1000:]\n",
    "classifier3 = nltk.NaiveBayesClassifier.train(train_set)\n",
    "print nltk.classify.accuracy(classifier3, dev_set)"
   ]
  },
  {
   "cell_type": "code",
   "execution_count": 15,
   "metadata": {
    "collapsed": false
   },
   "outputs": [],
   "source": [
    "errors = []\n",
    "for (name, tag) in dev_names:\n",
    "    guess = classifier3.classify(gender_features(name))\n",
    "    if guess != tag:\n",
    "        errors.append( (tag, guess, name) )"
   ]
  },
  {
   "cell_type": "code",
   "execution_count": 16,
   "metadata": {
    "collapsed": false
   },
   "outputs": [
    {
     "name": "stdout",
     "output_type": "stream",
     "text": [
      "correct=female   guess=male     name=Adrian                        \n",
      "correct=female   guess=male     name=April                         \n",
      "correct=female   guess=male     name=Bell                          \n",
      "correct=female   guess=male     name=Caril                         \n",
      "correct=female   guess=male     name=Carlyn                        \n",
      "correct=female   guess=male     name=Carlynn                       \n",
      "correct=female   guess=male     name=Carmen                        \n",
      "correct=female   guess=male     name=Carol-Jean                    \n",
      "correct=female   guess=male     name=Caron                         \n",
      "correct=female   guess=male     name=Celestyn                      \n",
      "correct=female   guess=male     name=Chandal                       \n",
      "correct=female   guess=male     name=Charlott                      \n",
      "correct=female   guess=male     name=Chrystel                      \n",
      "correct=female   guess=male     name=Ciel                          \n",
      "correct=female   guess=male     name=Doralynn                      \n",
      "correct=female   guess=male     name=Dyan                          \n",
      "correct=female   guess=male     name=Dyann                         \n",
      "correct=female   guess=male     name=Elisabet                      \n",
      "correct=female   guess=male     name=Ellynn                        \n",
      "correct=female   guess=male     name=Fallon                        \n",
      "correct=female   guess=male     name=Fiann                         \n",
      "correct=female   guess=male     name=Gillian                       \n",
      "correct=female   guess=male     name=Gretal                        \n",
      "correct=female   guess=male     name=Jacklin                       \n",
      "correct=female   guess=male     name=Jolynn                        \n",
      "correct=female   guess=male     name=Kaitlin                       \n",
      "correct=female   guess=male     name=Kara-Lynn                     \n",
      "correct=female   guess=male     name=Karyn                         \n",
      "correct=female   guess=male     name=Lauren                        \n",
      "correct=female   guess=male     name=Leland                        \n",
      "correct=female   guess=male     name=Lin                           \n",
      "correct=female   guess=male     name=Linn                          \n",
      "correct=female   guess=male     name=Loralyn                       \n",
      "correct=female   guess=male     name=Madlen                        \n",
      "correct=female   guess=male     name=Marieann                      \n",
      "correct=female   guess=male     name=Marlyn                        \n",
      "correct=female   guess=male     name=Maryl                         \n",
      "correct=female   guess=male     name=Maud                          \n",
      "correct=female   guess=male     name=Miriam                        \n",
      "correct=female   guess=male     name=Nadeen                        \n",
      "correct=female   guess=male     name=Persis                        \n",
      "correct=female   guess=male     name=Rachel                        \n",
      "correct=female   guess=male     name=Raf                           \n",
      "correct=female   guess=male     name=Renell                        \n",
      "correct=female   guess=male     name=Rosamund                      \n",
      "correct=female   guess=male     name=Roslyn                        \n",
      "correct=female   guess=male     name=Rozalin                       \n",
      "correct=female   guess=male     name=Sheryl                        \n",
      "correct=female   guess=male     name=Wallis                        \n",
      "correct=female   guess=male     name=Willyt                        \n",
      "correct=male     guess=female   name=Andie                         \n",
      "correct=male     guess=female   name=Arnie                         \n",
      "correct=male     guess=female   name=Billy                         \n",
      "correct=male     guess=female   name=Bradly                        \n",
      "correct=male     guess=female   name=Chancey                       \n",
      "correct=male     guess=female   name=Clancy                        \n",
      "correct=male     guess=female   name=Cobby                         \n",
      "correct=male     guess=female   name=Dave                          \n",
      "correct=male     guess=female   name=Doug                          \n",
      "correct=male     guess=female   name=Eli                           \n",
      "correct=male     guess=female   name=Elmore                        \n",
      "correct=male     guess=female   name=Ely                           \n",
      "correct=male     guess=female   name=Emery                         \n",
      "correct=male     guess=female   name=Enoch                         \n",
      "correct=male     guess=female   name=Gale                          \n",
      "correct=male     guess=female   name=Gerome                        \n",
      "correct=male     guess=female   name=Harley                        \n",
      "correct=male     guess=female   name=Henrique                      \n",
      "correct=male     guess=female   name=Hermy                         \n",
      "correct=male     guess=female   name=Isa                           \n",
      "correct=male     guess=female   name=Jean-Pierre                   \n",
      "correct=male     guess=female   name=Jehu                          \n",
      "correct=male     guess=female   name=Jeramie                       \n",
      "correct=male     guess=female   name=Johnnie                       \n",
      "correct=male     guess=female   name=Josiah                        \n",
      "correct=male     guess=female   name=Julie                         \n",
      "correct=male     guess=female   name=Kraig                         \n",
      "correct=male     guess=female   name=Kyle                          \n",
      "correct=male     guess=female   name=Lanny                         \n",
      "correct=male     guess=female   name=Lefty                         \n",
      "correct=male     guess=female   name=Leroy                         \n",
      "correct=male     guess=female   name=Maddie                        \n",
      "correct=male     guess=female   name=Maurise                       \n",
      "correct=male     guess=female   name=Mike                          \n",
      "correct=male     guess=female   name=Mitch                         \n",
      "correct=male     guess=female   name=Montgomery                    \n",
      "correct=male     guess=female   name=Mose                          \n",
      "correct=male     guess=female   name=Mustafa                       \n",
      "correct=male     guess=female   name=Natale                        \n",
      "correct=male     guess=female   name=Noach                         \n",
      "correct=male     guess=female   name=Obie                          \n",
      "correct=male     guess=female   name=Oleg                          \n",
      "correct=male     guess=female   name=Patty                         \n",
      "correct=male     guess=female   name=Rafe                          \n",
      "correct=male     guess=female   name=Reg                           \n",
      "correct=male     guess=female   name=Rice                          \n",
      "correct=male     guess=female   name=Robbie                        \n",
      "correct=male     guess=female   name=Rodge                         \n",
      "correct=male     guess=female   name=Roscoe                        \n",
      "correct=male     guess=female   name=Royce                         \n",
      "correct=male     guess=female   name=Rudie                         \n",
      "correct=male     guess=female   name=Scottie                       \n",
      "correct=male     guess=female   name=Scotty                        \n",
      "correct=male     guess=female   name=Skye                          \n",
      "correct=male     guess=female   name=Stacy                         \n",
      "correct=male     guess=female   name=Stanleigh                     \n",
      "correct=male     guess=female   name=Tobie                         \n",
      "correct=male     guess=female   name=Torrey                        \n",
      "correct=male     guess=female   name=Wayne                         \n",
      "correct=male     guess=female   name=Winthrop                      \n",
      "correct=male     guess=female   name=Woody                         \n",
      "correct=male     guess=female   name=Zacharia                      \n"
     ]
    }
   ],
   "source": [
    "## it guess a lot of male name as females.\n",
    "for (tag, guess, name) in sorted(errors): # doctest: +ELLIPSIS +NORMALIZE_WHITESPACE\n",
    "    print 'correct=%-8s guess=%-8s name=%-30s' %(tag, guess, name)"
   ]
  },
  {
   "cell_type": "code",
   "execution_count": 17,
   "metadata": {
    "collapsed": true
   },
   "outputs": [],
   "source": [
    "## Lets make a function for generating a new dev and train set, while keeping the same test set\n",
    "def getNewSets(names, gender_features):\n",
    "    n = copy.deepcopy(names)\n",
    "    n = n[0:1000]\n",
    "    n = sorted(n, key=lambda k: random.random())\n",
    "    namesnew = n + names[1000:]\n",
    "    featuresets = [(gender_features(n), g) for (n,g) in namesnew]\n",
    "    train_names, dev_names, test_names = names[0:500], names[500:1000], names[1000:]\n",
    "    train_set, dev_set, test_set = featuresets[0:500], featuresets[500:1000], featuresets[1000:]\n",
    "    return train_names, dev_names, test_names,train_set, dev_set, test_set"
   ]
  },
  {
   "cell_type": "code",
   "execution_count": 18,
   "metadata": {
    "collapsed": false
   },
   "outputs": [],
   "source": [
    "##looks at a combination of first and last letter\n",
    "def gender_features4(name):\n",
    "    features = {}\n",
    "    features[\"firstletter\"] = name[0].lower()\n",
    "    features[\"lastletter\"] = name[-1].lower()\n",
    "    features[\"firstAndLast\"] = name[0].lower() + name[-1].lower()\n",
    "    for letter in 'abcdefghijklmnopqrstuvwxyz':\n",
    "        features[\"count(%s)\" % letter] = name.lower().count(letter)\n",
    "    return features\n",
    "## Regenerate featuresets, with same order as before"
   ]
  },
  {
   "cell_type": "code",
   "execution_count": 19,
   "metadata": {
    "collapsed": false
   },
   "outputs": [],
   "source": [
    "train_names, dev_names, test_names,train_set, dev_set, test_set = getNewSets(names, gender_features4)"
   ]
  },
  {
   "cell_type": "code",
   "execution_count": 20,
   "metadata": {
    "collapsed": false
   },
   "outputs": [
    {
     "name": "stdout",
     "output_type": "stream",
     "text": [
      "0.76\n"
     ]
    }
   ],
   "source": [
    "## this is worse\n",
    "classifier4 = nltk.NaiveBayesClassifier.train(train_set)\n",
    "print nltk.classify.accuracy(classifier4, dev_set)"
   ]
  },
  {
   "cell_type": "code",
   "execution_count": 21,
   "metadata": {
    "collapsed": true
   },
   "outputs": [],
   "source": [
    "##looks at a combination of first two letters\n",
    "def gender_features5(name):\n",
    "    features = {}\n",
    "    features[\"firstletter\"] = name[0].lower()\n",
    "    features[\"lastletter\"] = name[-1].lower()\n",
    "    features[\"twofirst\"] = name[0].lower() + name[1].lower()\n",
    "    for letter in 'abcdefghijklmnopqrstuvwxyz':\n",
    "        features[\"count(%s)\" % letter] = name.lower().count(letter)\n",
    "    return features\n"
   ]
  },
  {
   "cell_type": "code",
   "execution_count": 22,
   "metadata": {
    "collapsed": false
   },
   "outputs": [
    {
     "name": "stdout",
     "output_type": "stream",
     "text": [
      "0.732\n"
     ]
    }
   ],
   "source": [
    "## and still worse\n",
    "train_names, dev_names, test_names,train_set, dev_set, test_set = getNewSets(names, gender_features5)\n",
    "classifier5 = nltk.NaiveBayesClassifier.train(train_set)\n",
    "print nltk.classify.accuracy(classifier5, dev_set)"
   ]
  },
  {
   "cell_type": "code",
   "execution_count": 23,
   "metadata": {
    "collapsed": false
   },
   "outputs": [
    {
     "name": "stdout",
     "output_type": "stream",
     "text": [
      "0.738\n"
     ]
    }
   ],
   "source": [
    "## as you can see, version 3 is better even afer re-randomizing\n",
    "train_names, dev_names, test_names,train_set, dev_set, test_set = getNewSets(names, gender_features3)\n",
    "classifier3 = nltk.NaiveBayesClassifier.train(train_set)\n",
    "print nltk.classify.accuracy(classifier3, dev_set)"
   ]
  },
  {
   "cell_type": "code",
   "execution_count": 24,
   "metadata": {
    "collapsed": true
   },
   "outputs": [],
   "source": [
    "##looks at a combination of first two letters\n",
    "def gender_features6(name):\n",
    "    features = {}\n",
    "    features[\"firstletter\"] = name[0].lower()\n",
    "    features[\"lastletter\"] = name[-1].lower()\n",
    "    features[\"twolast\"] = name[-2].lower() + name[-1].lower()\n",
    "    for letter in 'abcdefghijklmnopqrstuvwxyz':\n",
    "        features[\"count(%s)\" % letter] = name.lower().count(letter)\n",
    "    return features\n"
   ]
  },
  {
   "cell_type": "code",
   "execution_count": 25,
   "metadata": {
    "collapsed": false
   },
   "outputs": [
    {
     "name": "stdout",
     "output_type": "stream",
     "text": [
      "0.752\n"
     ]
    }
   ],
   "source": [
    "## this really has no improvement\n",
    "train_names, dev_names, test_names,train_set, dev_set, test_set = getNewSets(names, gender_features6)\n",
    "classifier6 = nltk.NaiveBayesClassifier.train(train_set)\n",
    "print nltk.classify.accuracy(classifier6, dev_set)"
   ]
  },
  {
   "cell_type": "code",
   "execution_count": 26,
   "metadata": {
    "collapsed": true
   },
   "outputs": [],
   "source": [
    "##include second to last\n",
    "def gender_features7(name):\n",
    "    features = {}\n",
    "    features[\"firstletter\"] = name[0].lower()\n",
    "    features[\"lastletter\"] = name[-1].lower()\n",
    "    features[\"secondToLast\"] = name[-2].lower() \n",
    "    for letter in 'abcdefghijklmnopqrstuvwxyz':\n",
    "        features[\"count(%s)\" % letter] = name.lower().count(letter)\n",
    "    return features\n"
   ]
  },
  {
   "cell_type": "code",
   "execution_count": 27,
   "metadata": {
    "collapsed": false
   },
   "outputs": [
    {
     "name": "stdout",
     "output_type": "stream",
     "text": [
      "0.778\n"
     ]
    }
   ],
   "source": [
    "## this really has no improvement either\n",
    "train_names, dev_names, test_names,train_set, dev_set, test_set = getNewSets(names, gender_features7)\n",
    "classifier7 = nltk.NaiveBayesClassifier.train(train_set)\n",
    "print nltk.classify.accuracy(classifier7, dev_set)"
   ]
  },
  {
   "cell_type": "code",
   "execution_count": 28,
   "metadata": {
    "collapsed": true
   },
   "outputs": [],
   "source": [
    "def gender_features8(name):\n",
    "    m=int(round(len(name)/2))\n",
    "    midletter = name[m].lower()\n",
    "    features = {}\n",
    "    features['first_letter']  =  name[0].lower()\n",
    "    features['middle_letter'] =  midletter \n",
    "    features['last_letter']   =  name[-1].lower()\n",
    "    return features\n"
   ]
  },
  {
   "cell_type": "code",
   "execution_count": 29,
   "metadata": {
    "collapsed": false
   },
   "outputs": [
    {
     "name": "stdout",
     "output_type": "stream",
     "text": [
      "0.748\n"
     ]
    }
   ],
   "source": [
    "## this does worse\n",
    "train_names, dev_names, test_names,train_set, dev_set, test_set = getNewSets(names, gender_features8)\n",
    "classifier8 = nltk.NaiveBayesClassifier.train(train_set)\n",
    "print nltk.classify.accuracy(classifier8, dev_set)"
   ]
  },
  {
   "cell_type": "markdown",
   "metadata": {},
   "source": [
    "So at this point, version 3 appears to do as good as any, with ~77-78%. Still, names like Dave and Mike are assigned incorrectly."
   ]
  },
  {
   "cell_type": "code",
   "execution_count": 30,
   "metadata": {
    "collapsed": false
   },
   "outputs": [
    {
     "name": "stdout",
     "output_type": "stream",
     "text": [
      "0.788\n",
      "0.759936635945\n"
     ]
    }
   ],
   "source": [
    "print nltk.classify.accuracy(classifier3, dev_set)\n",
    "print nltk.classify.accuracy(classifier3, test_set)"
   ]
  },
  {
   "cell_type": "markdown",
   "metadata": {},
   "source": [
    "## How does the performance on the test set compare to the performance on the dev-test set? "
   ]
  },
  {
   "cell_type": "markdown",
   "metadata": {},
   "source": [
    "###  The performance on the dev-test set is slightly better than the performance on the test set.  Classifier 3 seems to have the highest accuracy with about 78% accuracy on the dev-test set and 76% accuracy on the test set.     "
   ]
  },
  {
   "cell_type": "markdown",
   "metadata": {},
   "source": [
    "## Is this what you'd expect?"
   ]
  },
  {
   "cell_type": "markdown",
   "metadata": {},
   "source": [
    "###  Yes.  Since you're using the dev_test set to develop the model, you would expect the performance of the model on the dev_test to be a little better than the performance on the test set."
   ]
  },
  {
   "cell_type": "code",
   "execution_count": null,
   "metadata": {
    "collapsed": true
   },
   "outputs": [],
   "source": []
  }
 ],
 "metadata": {
  "anaconda-cloud": {},
  "kernelspec": {
   "display_name": "Python [conda root]",
   "language": "python",
   "name": "conda-root-py"
  },
  "language_info": {
   "codemirror_mode": {
    "name": "ipython",
    "version": 2
   },
   "file_extension": ".py",
   "mimetype": "text/x-python",
   "name": "python",
   "nbconvert_exporter": "python",
   "pygments_lexer": "ipython2",
   "version": "2.7.12"
  }
 },
 "nbformat": 4,
 "nbformat_minor": 0
}
